{
 "cells": [
  {
   "cell_type": "code",
   "execution_count": 1,
   "metadata": {},
   "outputs": [],
   "source": [
    "from __future__ import print_function\n",
    "import torch\n",
    "import torch.nn as nn\n",
    "import torch.nn.functional as F\n",
    "import torch.optim as optim\n",
    "import torchvision\n",
    "#import torch.autograd.variable as Variable\n",
    "from torchvision import transforms"
   ]
  },
  {
   "cell_type": "code",
   "execution_count": 2,
   "metadata": {},
   "outputs": [
    {
     "name": "stdout",
     "output_type": "stream",
     "text": [
      "Downloading http://yann.lecun.com/exdb/mnist/train-images-idx3-ubyte.gz\n",
      "Downloading http://yann.lecun.com/exdb/mnist/train-images-idx3-ubyte.gz to ./MNIST_data/train/MNIST/raw/train-images-idx3-ubyte.gz\n"
     ]
    },
    {
     "name": "stderr",
     "output_type": "stream",
     "text": [
      "100.0%\n"
     ]
    },
    {
     "name": "stdout",
     "output_type": "stream",
     "text": [
      "Extracting ./MNIST_data/train/MNIST/raw/train-images-idx3-ubyte.gz to ./MNIST_data/train/MNIST/raw\n",
      "\n",
      "Downloading http://yann.lecun.com/exdb/mnist/train-labels-idx1-ubyte.gz\n",
      "Downloading http://yann.lecun.com/exdb/mnist/train-labels-idx1-ubyte.gz to ./MNIST_data/train/MNIST/raw/train-labels-idx1-ubyte.gz\n"
     ]
    },
    {
     "name": "stderr",
     "output_type": "stream",
     "text": [
      "100.0%\n"
     ]
    },
    {
     "name": "stdout",
     "output_type": "stream",
     "text": [
      "Extracting ./MNIST_data/train/MNIST/raw/train-labels-idx1-ubyte.gz to ./MNIST_data/train/MNIST/raw\n",
      "\n",
      "Downloading http://yann.lecun.com/exdb/mnist/t10k-images-idx3-ubyte.gz\n",
      "Downloading http://yann.lecun.com/exdb/mnist/t10k-images-idx3-ubyte.gz to ./MNIST_data/train/MNIST/raw/t10k-images-idx3-ubyte.gz\n"
     ]
    },
    {
     "name": "stderr",
     "output_type": "stream",
     "text": [
      "100.0%\n"
     ]
    },
    {
     "name": "stdout",
     "output_type": "stream",
     "text": [
      "Extracting ./MNIST_data/train/MNIST/raw/t10k-images-idx3-ubyte.gz to ./MNIST_data/train/MNIST/raw\n",
      "\n",
      "Downloading http://yann.lecun.com/exdb/mnist/t10k-labels-idx1-ubyte.gz\n",
      "Downloading http://yann.lecun.com/exdb/mnist/t10k-labels-idx1-ubyte.gz to ./MNIST_data/train/MNIST/raw/t10k-labels-idx1-ubyte.gz\n"
     ]
    },
    {
     "name": "stderr",
     "output_type": "stream",
     "text": [
      "100.0%\n"
     ]
    },
    {
     "name": "stdout",
     "output_type": "stream",
     "text": [
      "Extracting ./MNIST_data/train/MNIST/raw/t10k-labels-idx1-ubyte.gz to ./MNIST_data/train/MNIST/raw\n",
      "\n",
      "Downloading http://yann.lecun.com/exdb/mnist/train-images-idx3-ubyte.gz\n",
      "Downloading http://yann.lecun.com/exdb/mnist/train-images-idx3-ubyte.gz to ./MNIST_data/test/MNIST/raw/train-images-idx3-ubyte.gz\n"
     ]
    },
    {
     "name": "stderr",
     "output_type": "stream",
     "text": [
      "100.0%\n"
     ]
    },
    {
     "name": "stdout",
     "output_type": "stream",
     "text": [
      "Extracting ./MNIST_data/test/MNIST/raw/train-images-idx3-ubyte.gz to ./MNIST_data/test/MNIST/raw\n",
      "\n",
      "Downloading http://yann.lecun.com/exdb/mnist/train-labels-idx1-ubyte.gz\n",
      "Downloading http://yann.lecun.com/exdb/mnist/train-labels-idx1-ubyte.gz to ./MNIST_data/test/MNIST/raw/train-labels-idx1-ubyte.gz\n"
     ]
    },
    {
     "name": "stderr",
     "output_type": "stream",
     "text": [
      "100.0%\n"
     ]
    },
    {
     "name": "stdout",
     "output_type": "stream",
     "text": [
      "Extracting ./MNIST_data/test/MNIST/raw/train-labels-idx1-ubyte.gz to ./MNIST_data/test/MNIST/raw\n",
      "\n",
      "Downloading http://yann.lecun.com/exdb/mnist/t10k-images-idx3-ubyte.gz\n",
      "Downloading http://yann.lecun.com/exdb/mnist/t10k-images-idx3-ubyte.gz to ./MNIST_data/test/MNIST/raw/t10k-images-idx3-ubyte.gz\n"
     ]
    },
    {
     "name": "stderr",
     "output_type": "stream",
     "text": [
      "100.0%\n"
     ]
    },
    {
     "name": "stdout",
     "output_type": "stream",
     "text": [
      "Extracting ./MNIST_data/test/MNIST/raw/t10k-images-idx3-ubyte.gz to ./MNIST_data/test/MNIST/raw\n",
      "\n",
      "Downloading http://yann.lecun.com/exdb/mnist/t10k-labels-idx1-ubyte.gz\n",
      "Downloading http://yann.lecun.com/exdb/mnist/t10k-labels-idx1-ubyte.gz to ./MNIST_data/test/MNIST/raw/t10k-labels-idx1-ubyte.gz\n"
     ]
    },
    {
     "name": "stderr",
     "output_type": "stream",
     "text": [
      "100.0%"
     ]
    },
    {
     "name": "stdout",
     "output_type": "stream",
     "text": [
      "Extracting ./MNIST_data/test/MNIST/raw/t10k-labels-idx1-ubyte.gz to ./MNIST_data/test/MNIST/raw\n",
      "\n"
     ]
    },
    {
     "name": "stderr",
     "output_type": "stream",
     "text": [
      "\n"
     ]
    }
   ],
   "source": [
    "device = torch.device(\"cuda\" if torch.cuda.is_available() else \"cpu\")\n",
    "transform=transforms.Compose([transforms.ToTensor(),\n",
    "                               transforms.Normalize((0.1307,), (0.3081,))])\n",
    "train_set=torchvision.datasets.MNIST(root='./MNIST_data/train',train=True,transform=transform,download=True)\n",
    "train_loader=torch.utils.data.DataLoader(train_set,batch_size=64,shuffle=True,num_workers=4)\n",
    "\n",
    "test_set=torchvision.datasets.MNIST(root='./MNIST_data/test',train=False,transform=transform,download=True)\n",
    "test_loader=torch.utils.data.DataLoader(test_set,batch_size=64,shuffle=True,num_workers=4)"
   ]
  },
  {
   "cell_type": "code",
   "execution_count": 3,
   "metadata": {},
   "outputs": [
    {
     "data": {
      "text/plain": [
       "device(type='cuda')"
      ]
     },
     "execution_count": 3,
     "metadata": {},
     "output_type": "execute_result"
    }
   ],
   "source": [
    "device"
   ]
  },
  {
   "cell_type": "code",
   "execution_count": 4,
   "metadata": {},
   "outputs": [
    {
     "data": {
      "text/plain": [
       "torch.Size([64, 1, 28, 28])"
      ]
     },
     "execution_count": 4,
     "metadata": {},
     "output_type": "execute_result"
    }
   ],
   "source": [
    "images,label=next(iter(test_loader))\n",
    "images.size()"
   ]
  },
  {
   "cell_type": "code",
   "execution_count": 5,
   "metadata": {},
   "outputs": [],
   "source": [
    "class Net(nn.Module):\n",
    "    def __init__(self):\n",
    "        super(Net,self).__init__()\n",
    "        self.conv1=nn.Conv2d(1,10,kernel_size=5)\n",
    "        self.conv2=nn.Conv2d(10,20,kernel_size=5)\n",
    "        self.conv2_drop=nn.Dropout()\n",
    "        self.fc1=nn.Linear(320,50)\n",
    "        self.fc2=nn.Linear(50,10)\n",
    "         \n",
    "        self.localization=nn.Sequential(nn.Conv2d(1,8,kernel_size=7),\n",
    "                                        nn.MaxPool2d(2,stride=2),\n",
    "                                        nn.ReLU(True),\n",
    "                                        nn.Conv2d(8,10,kernel_size=5),\n",
    "                                        nn.MaxPool2d(2,stride=2),\n",
    "                                        nn.ReLU(True))\n",
    "        self.fc_loc=nn.Sequential(nn.Linear(10*3*3,32),\n",
    "                                  nn.ReLU(True),\n",
    "                                  nn.Linear(32,3*2))\n",
    "        self.fc_loc[2].weight.data.zero_()\n",
    "        self.fc_loc[2].bias.data.copy_(torch.tensor([1,0,0,0,1,0]))\n",
    "        \n",
    "    def stn(self,x):\n",
    "        xs=self.localization(x)\n",
    "        xs=xs.view(-1,10*3*3)\n",
    "        theta=self.fc_loc(xs)\n",
    "        theta=theta.view(-1,2,3)\n",
    "        grid=F.affine_grid(theta,x.size())\n",
    "        x=F.grid_sample(x,grid)\n",
    "        return x\n",
    "    def forward(self,x):\n",
    "        x=self.stn(x)\n",
    "        x=F.relu(F.max_pool2d(self.conv1(x),2))\n",
    "        x=F.relu(F.max_pool2d(self.conv2_drop(self.conv2(x)),2))\n",
    "        x=x.view(-1,320)\n",
    "        x=self.fc1(x)\n",
    "        x=F.relu(x)\n",
    "        x=F.dropout(x,training=self.training)\n",
    "        x=self.fc2(x)\n",
    "        return F.log_softmax(x,dim=1)\n",
    "    \n",
    "net=Net().to(device)\n",
    "        "
   ]
  },
  {
   "cell_type": "code",
   "execution_count": 6,
   "metadata": {},
   "outputs": [],
   "source": [
    "images,target=next(iter(train_loader))\n",
    "\n"
   ]
  },
  {
   "cell_type": "code",
   "execution_count": 7,
   "metadata": {},
   "outputs": [],
   "source": [
    "optimizer=optim.SGD(net.parameters(),lr=0.01)\n",
    "def train(epoch):\n",
    "    net.train()\n",
    "    for batch_idx,(data,target) in enumerate(train_loader):\n",
    "        data,target=data.to(device),target.to(device)\n",
    "        optimizer.zero_grad()\n",
    "        output=net(data)\n",
    "        loss=F.nll_loss(output,target)\n",
    "        loss.backward()\n",
    "        optimizer.step()\n",
    "        if batch_idx % 500 == 0:\n",
    "            print('Train Epoch: {} [{}/{} ({:.0f}%)]\\tLoss: {:.6f}'.format(\n",
    "                epoch, batch_idx * len(data), len(train_loader.dataset),\n",
    "                100. * batch_idx / len(train_loader), loss.item()))\n",
    "\n",
    "def test():\n",
    "    with torch.no_grad():\n",
    "        net.eval()\n",
    "        test_loss=0\n",
    "        correct=0\n",
    "        for data,target in test_loader:\n",
    "            data,target=data.to(device),target.to(device)\n",
    "            output=net(data)\n",
    "            test_loss+=F.nll_loss(output,target,size_average=False).item()\n",
    "            pred=output.max(1,keepdim=True)[1]\n",
    "            correct+=pred.eq(target.view_as(pred)).sum().item()\n",
    "        test_loss/=len(test_loader.dataset)\n",
    "        print('\\nTest set: Average loss: {:.4f}, Accuracy: {}/{} ({:.0f}%)\\n'\n",
    "              .format(test_loss, correct, len(test_loader.dataset),\n",
    "                      100. * correct / len(test_loader.dataset)))    "
   ]
  },
  {
   "cell_type": "code",
   "execution_count": 8,
   "metadata": {},
   "outputs": [
    {
     "name": "stderr",
     "output_type": "stream",
     "text": [
      "/opt/anaconda3/envs/simclr/lib/python3.9/site-packages/torch/nn/functional.py:4277: UserWarning: Default grid_sample and affine_grid behavior has changed to align_corners=False since 1.3.0. Please specify align_corners=True if the old behavior is desired. See the documentation of grid_sample for details.\n",
      "  warnings.warn(\n",
      "/opt/anaconda3/envs/simclr/lib/python3.9/site-packages/torch/nn/functional.py:4215: UserWarning: Default grid_sample and affine_grid behavior has changed to align_corners=False since 1.3.0. Please specify align_corners=True if the old behavior is desired. See the documentation of grid_sample for details.\n",
      "  warnings.warn(\n"
     ]
    },
    {
     "name": "stdout",
     "output_type": "stream",
     "text": [
      "Train Epoch: 1 [0/60000 (0%)]\tLoss: 2.357968\n",
      "Train Epoch: 1 [32000/60000 (53%)]\tLoss: 0.484944\n"
     ]
    },
    {
     "name": "stderr",
     "output_type": "stream",
     "text": [
      "/opt/anaconda3/envs/simclr/lib/python3.9/site-packages/torch/nn/_reduction.py:42: UserWarning: size_average and reduce args will be deprecated, please use reduction='sum' instead.\n",
      "  warnings.warn(warning.format(ret))\n"
     ]
    },
    {
     "name": "stdout",
     "output_type": "stream",
     "text": [
      "\n",
      "Test set: Average loss: 0.2595, Accuracy: 9430/10000 (94%)\n",
      "\n",
      "Train Epoch: 2 [0/60000 (0%)]\tLoss: 0.335451\n",
      "Train Epoch: 2 [32000/60000 (53%)]\tLoss: 0.346861\n",
      "\n",
      "Test set: Average loss: 0.1309, Accuracy: 9692/10000 (97%)\n",
      "\n",
      "Train Epoch: 3 [0/60000 (0%)]\tLoss: 0.188798\n",
      "Train Epoch: 3 [32000/60000 (53%)]\tLoss: 0.318321\n",
      "\n",
      "Test set: Average loss: 0.1045, Accuracy: 9755/10000 (98%)\n",
      "\n",
      "Train Epoch: 4 [0/60000 (0%)]\tLoss: 0.290655\n",
      "Train Epoch: 4 [32000/60000 (53%)]\tLoss: 0.071420\n",
      "\n",
      "Test set: Average loss: 0.1449, Accuracy: 9590/10000 (96%)\n",
      "\n",
      "Train Epoch: 5 [0/60000 (0%)]\tLoss: 0.328297\n",
      "Train Epoch: 5 [32000/60000 (53%)]\tLoss: 0.111714\n",
      "\n",
      "Test set: Average loss: 0.0678, Accuracy: 9816/10000 (98%)\n",
      "\n",
      "Train Epoch: 6 [0/60000 (0%)]\tLoss: 0.085272\n",
      "Train Epoch: 6 [32000/60000 (53%)]\tLoss: 0.263008\n",
      "\n",
      "Test set: Average loss: 0.1052, Accuracy: 9690/10000 (97%)\n",
      "\n",
      "Train Epoch: 7 [0/60000 (0%)]\tLoss: 0.245520\n",
      "Train Epoch: 7 [32000/60000 (53%)]\tLoss: 0.101928\n",
      "\n",
      "Test set: Average loss: 0.1344, Accuracy: 9635/10000 (96%)\n",
      "\n",
      "Train Epoch: 8 [0/60000 (0%)]\tLoss: 0.247662\n",
      "Train Epoch: 8 [32000/60000 (53%)]\tLoss: 0.056358\n",
      "\n",
      "Test set: Average loss: 0.0562, Accuracy: 9856/10000 (99%)\n",
      "\n",
      "Train Epoch: 9 [0/60000 (0%)]\tLoss: 0.087624\n",
      "Train Epoch: 9 [32000/60000 (53%)]\tLoss: 0.055671\n",
      "\n",
      "Test set: Average loss: 0.1459, Accuracy: 9605/10000 (96%)\n",
      "\n",
      "Train Epoch: 10 [0/60000 (0%)]\tLoss: 0.243297\n",
      "Train Epoch: 10 [32000/60000 (53%)]\tLoss: 0.015892\n",
      "\n",
      "Test set: Average loss: 0.0412, Accuracy: 9883/10000 (99%)\n",
      "\n",
      "Train Epoch: 11 [0/60000 (0%)]\tLoss: 0.098682\n",
      "Train Epoch: 11 [32000/60000 (53%)]\tLoss: 0.034637\n",
      "\n",
      "Test set: Average loss: 0.0459, Accuracy: 9879/10000 (99%)\n",
      "\n",
      "Train Epoch: 12 [0/60000 (0%)]\tLoss: 0.102429\n",
      "Train Epoch: 12 [32000/60000 (53%)]\tLoss: 0.082501\n",
      "\n",
      "Test set: Average loss: 0.0455, Accuracy: 9887/10000 (99%)\n",
      "\n",
      "Train Epoch: 13 [0/60000 (0%)]\tLoss: 0.050223\n",
      "Train Epoch: 13 [32000/60000 (53%)]\tLoss: 0.135074\n",
      "\n",
      "Test set: Average loss: 0.0381, Accuracy: 9894/10000 (99%)\n",
      "\n",
      "Train Epoch: 14 [0/60000 (0%)]\tLoss: 0.078064\n",
      "Train Epoch: 14 [32000/60000 (53%)]\tLoss: 0.027553\n",
      "\n",
      "Test set: Average loss: 0.0393, Accuracy: 9885/10000 (99%)\n",
      "\n",
      "Train Epoch: 15 [0/60000 (0%)]\tLoss: 0.097392\n",
      "Train Epoch: 15 [32000/60000 (53%)]\tLoss: 0.023467\n",
      "\n",
      "Test set: Average loss: 0.0361, Accuracy: 9886/10000 (99%)\n",
      "\n",
      "Train Epoch: 16 [0/60000 (0%)]\tLoss: 0.053833\n",
      "Train Epoch: 16 [32000/60000 (53%)]\tLoss: 0.048814\n",
      "\n",
      "Test set: Average loss: 0.0426, Accuracy: 9889/10000 (99%)\n",
      "\n",
      "Train Epoch: 17 [0/60000 (0%)]\tLoss: 0.026709\n",
      "Train Epoch: 17 [32000/60000 (53%)]\tLoss: 0.016946\n",
      "\n",
      "Test set: Average loss: 0.0365, Accuracy: 9888/10000 (99%)\n",
      "\n",
      "Train Epoch: 18 [0/60000 (0%)]\tLoss: 0.072000\n",
      "Train Epoch: 18 [32000/60000 (53%)]\tLoss: 0.054114\n",
      "\n",
      "Test set: Average loss: 0.0314, Accuracy: 9910/10000 (99%)\n",
      "\n",
      "Train Epoch: 19 [0/60000 (0%)]\tLoss: 0.033715\n",
      "Train Epoch: 19 [32000/60000 (53%)]\tLoss: 0.052273\n",
      "\n",
      "Test set: Average loss: 0.0500, Accuracy: 9865/10000 (99%)\n",
      "\n"
     ]
    },
    {
     "data": {
      "image/png": "[encoded data removed]",
      "text/plain": [
       "<Figure size 432x288 with 2 Axes>"
      ]
     },
     "metadata": {
      "needs_background": "light"
     },
     "output_type": "display_data"
    }
   ],
   "source": [
    "import numpy as np\n",
    "import matplotlib.pyplot as plt\n",
    "plt.ion()\n",
    "\n",
    "def convert_image_np(image):\n",
    "    img=image.numpy().transpose((1,2,0))\n",
    "    mean=np.array([0.485, 0.456, 0.406])\n",
    "    std = np.array([0.229, 0.224, 0.225])\n",
    "    img=img*std+mean\n",
    "    img=np.clip(img,0,1)\n",
    "    return img\n",
    "\n",
    "def visualize():\n",
    "    with torch.no_grad():\n",
    "        data=next(iter(test_loader))[0].to(device)\n",
    "        input=data\n",
    "        transformed_input=net.stn(input)\n",
    "        in_grid=convert_image_np(torchvision.utils.make_grid(input.cpu()))\n",
    "        out_grid=convert_image_np(torchvision.utils.make_grid(transformed_input.cpu()))\n",
    "        f, axarr = plt.subplots(1, 2)\n",
    "        axarr[0].imshow(in_grid)\n",
    "        axarr[0].set_title('Dataset Images')\n",
    "\n",
    "        axarr[1].imshow(out_grid)\n",
    "        axarr[1].set_title('Transformed Images')\n",
    "\n",
    "for epoch in range(1,20):\n",
    "    train(epoch)\n",
    "    test()\n",
    "\n",
    "visualize()    \n",
    "plt.ioff()\n",
    "plt.show()\n"
   ]
  },
  {
   "cell_type": "markdown",
   "metadata": {},
   "source": [
    "# PACS"
   ]
  },
  {
   "cell_type": "code",
   "execution_count": null,
   "metadata": {},
   "outputs": [],
   "source": []
  },
  {
   "cell_type": "code",
   "execution_count": 10,
   "metadata": {},
   "outputs": [
    {
     "ename": "NameError",
     "evalue": "name 'TransformsSimCLR' is not defined",
     "output_type": "error",
     "traceback": [
      "\u001b[0;31m---------------------------------------------------------------------------\u001b[0m",
      "\u001b[0;31mNameError\u001b[0m                                 Traceback (most recent call last)",
      "Cell \u001b[0;32mIn [10], line 11\u001b[0m\n\u001b[1;32m      8\u001b[0m DIR_SKETCH \u001b[38;5;241m=\u001b[39m \u001b[38;5;124m'\u001b[39m\u001b[38;5;124m../PRISM/datasets/PACS/sketch\u001b[39m\u001b[38;5;124m'\u001b[39m\n\u001b[1;32m     10\u001b[0m pacs_convertor\u001b[38;5;241m=\u001b[39m {\u001b[38;5;124m'\u001b[39m\u001b[38;5;124mdefault\u001b[39m\u001b[38;5;124m'\u001b[39m:DIR_PHOTO, \u001b[38;5;124m'\u001b[39m\u001b[38;5;124mphoto\u001b[39m\u001b[38;5;124m'\u001b[39m:DIR_PHOTO, \u001b[38;5;124m'\u001b[39m\u001b[38;5;124mart\u001b[39m\u001b[38;5;124m'\u001b[39m:DIR_ART, \u001b[38;5;124m'\u001b[39m\u001b[38;5;124mcartoon\u001b[39m\u001b[38;5;124m'\u001b[39m:DIR_CARTOON, \u001b[38;5;124m'\u001b[39m\u001b[38;5;124msketch\u001b[39m\u001b[38;5;124m'\u001b[39m:DIR_SKETCH}\n\u001b[0;32m---> 11\u001b[0m train_dataset\u001b[38;5;241m=\u001b[39m torchvision\u001b[38;5;241m.\u001b[39mdatasets\u001b[38;5;241m.\u001b[39mImageFolder(pacs_convertor[\u001b[38;5;124m'\u001b[39m\u001b[38;5;124msketch\u001b[39m\u001b[38;5;124m'\u001b[39m], transform\u001b[38;5;241m=\u001b[39m\u001b[43mTransformsSimCLR\u001b[49m(size\u001b[38;5;241m=\u001b[39margs\u001b[38;5;241m.\u001b[39mimage_size)\u001b[38;5;241m.\u001b[39mtest_transform)\n\u001b[1;32m     12\u001b[0m test_dataset \u001b[38;5;241m=\u001b[39m torchvision\u001b[38;5;241m.\u001b[39mdatasets\u001b[38;5;241m.\u001b[39mImageFolder(pacs_convertor[\u001b[38;5;124m'\u001b[39m\u001b[38;5;124msketch\u001b[39m\u001b[38;5;124m'\u001b[39m], transform\u001b[38;5;241m=\u001b[39mTransformsSimCLR(size\u001b[38;5;241m=\u001b[39margs\u001b[38;5;241m.\u001b[39mimage_size)\u001b[38;5;241m.\u001b[39mtest_transform)\n\u001b[1;32m     14\u001b[0m train_loader \u001b[38;5;241m=\u001b[39m torch\u001b[38;5;241m.\u001b[39mutils\u001b[38;5;241m.\u001b[39mdata\u001b[38;5;241m.\u001b[39mDataLoader(\n\u001b[1;32m     15\u001b[0m         train_dataset,\n\u001b[1;32m     16\u001b[0m         batch_size\u001b[38;5;241m=\u001b[39margs\u001b[38;5;241m.\u001b[39mlogistic_batch_size,\n\u001b[0;32m   (...)\u001b[0m\n\u001b[1;32m     19\u001b[0m         num_workers\u001b[38;5;241m=\u001b[39margs\u001b[38;5;241m.\u001b[39mworkers,\n\u001b[1;32m     20\u001b[0m     )\n",
      "\u001b[0;31mNameError\u001b[0m: name 'TransformsSimCLR' is not defined"
     ]
    }
   ],
   "source": [
    "#PACS Dataset\n",
    "NUM_CLASSES = 7      # 7 classes for each domain: 'dog', 'elephant', 'giraffe', 'guitar', 'horse', 'house', 'person'\n",
    "DATASETS_NAMES = ['photo', 'art', 'cartoon', 'sketch']\n",
    "CLASSES_NAMES = ['Dog', 'Elephant', 'Giraffe', 'Guitar', 'Horse', 'House', 'Person']\n",
    "DIR_PHOTO = '../PRISM/datasets/PACS/photo'\n",
    "DIR_ART = '../PRISM/datasets/PACS/art_painting'\n",
    "DIR_CARTOON = '../PRISM/datasets/PACS/cartoon'\n",
    "DIR_SKETCH = '../PRISM/datasets/PACS/sketch'\n",
    "\n",
    "pacs_convertor= {'default':DIR_PHOTO, 'photo':DIR_PHOTO, 'art':DIR_ART, 'cartoon':DIR_CARTOON, 'sketch':DIR_SKETCH}\n",
    "train_dataset= torchvision.datasets.ImageFolder(pacs_convertor['sketch'], transform=TransformsSimCLR(size=args.image_size).test_transform)\n",
    "test_dataset = torchvision.datasets.ImageFolder(pacs_convertor['sketch'], transform=TransformsSimCLR(size=args.image_size).test_transform)\n",
    "                \n",
    "train_loader = torch.utils.data.DataLoader(\n",
    "        train_dataset,\n",
    "        batch_size=args.logistic_batch_size,\n",
    "        shuffle=True,\n",
    "        drop_last=True,\n",
    "        num_workers=args.workers,\n",
    "    )\n",
    "\n",
    "test_loader = torch.utils.data.DataLoader(\n",
    "        test_dataset,\n",
    "        batch_size=args.logistic_batch_size,\n",
    "        shuffle=False,\n",
    "        drop_last=True,\n",
    "        num_workers=args.workers,\n",
    "    )"
   ]
  },
  {
   "cell_type": "code",
   "execution_count": null,
   "metadata": {},
   "outputs": [],
   "source": []
  }
 ],
 "metadata": {
  "kernelspec": {
   "display_name": "Python 3",
   "language": "python",
   "name": "python3"
  },
  "language_info": {
   "codemirror_mode": {
    "name": "ipython",
    "version": 3
   },
   "file_extension": ".py",
   "mimetype": "text/x-python",
   "name": "python",
   "nbconvert_exporter": "python",
   "pygments_lexer": "ipython3",
   "version": "3.9.13"
  }
 },
 "nbformat": 4,
 "nbformat_minor": 4
}
